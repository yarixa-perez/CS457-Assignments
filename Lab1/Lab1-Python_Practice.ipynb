{
 "cells": [
  {
   "cell_type": "markdown",
   "metadata": {},
   "source": [
    "# Exercises with Python"
   ]
  },
  {
   "cell_type": "code",
   "execution_count": 1,
   "metadata": {},
   "outputs": [],
   "source": [
    "import numpy as np\n",
    "import matplotlib.pyplot as plt\n",
    "import pandas as pd"
   ]
  },
  {
   "cell_type": "markdown",
   "metadata": {},
   "source": [
    "## Exercise 1 - Numpy\n",
    "#### Create an array of 450 random integers between -10 and 10"
   ]
  },
  {
   "cell_type": "code",
   "execution_count": 42,
   "metadata": {},
   "outputs": [
    {
     "name": "stdout",
     "output_type": "stream",
     "text": [
      "[  3  -4   2   1   1  -1  -7  -9   8  -6   1   2   6  -7  -8  -9  -5  -3\n",
      "  -6  -2  -6   5  -9  -9  -7  -2   9 -10   8  -3   4   9   8  -4 -10   6\n",
      "  -5  -4  -1  -8   9   9   5 -10  -1   4 -10  10   9   6  -3   0   1   9\n",
      "  -3   0   6 -10   4   6   8  -5   4   4   0  -4  -6   2   4  -5  -2  -3\n",
      "  -7   6   6   3  -7   0  -9   0   2  -9 -10 -10  -7  -6   1   9  -5   5\n",
      " -10  -8   2   4   6   5   3   1  -1   2   1  -9  -1   0   4   1  -6  -5\n",
      "   7  -4  -9   2   0   6   3  -2   5   2   9  -2  -9   8  -7   9  -7  -9\n",
      "   6  -6   5   6   6  -9   2  -6  -5  -1   8  -5  -6   4  -6  -3  10   3\n",
      "  -8  -8  -9   0  -1  -5   1  -9   0  10   8   3  -8   5   9   3   7  -6\n",
      "  -7  -1   2   8  -5   5   3  -5  -4  -6   7   4   1   4  -9   1  -7  -4\n",
      "  -7   6   2  -1   1  -7 -10   4   1   2  -9  -5   9  -6  -3   9   7   4\n",
      "  -9   1   2  -3   8   2  -4   5  -3  -9  -3   1   4  -9   6   2   9  -9\n",
      "   9  -2 -10   1   4   9  -7  -8   9   6   0   4  10   8  10   9  -1   4\n",
      "   7  10   9   7  10  10  -3 -10   4  -5  -2   0   9   6  -7   7   5   7\n",
      "   3   4   5   2   6   2  -3   2   4   7   2   4  -2   1   2   3  -1   4\n",
      "   8  10  -5   7   0   7  -8  -8  -6   4   9  -2   9   2  10 -10   9  10\n",
      "  -8   5   9   9  -2  -3  -2   0  -8   6  -4  -3   7   7   1 -10  -7   7\n",
      "  -5 -10  -6  -7   5   6   7   5  -4  -8   2   9   8  -8  -6   6   0 -10\n",
      "   3   7   6  -9   9   8  -5  10   9   8  -7  -8   7  -7  -6  -6  -8   1\n",
      "  10  -6  -7   4  -3  -2   8  -6  -1   1 -10  -9   8   4   3  -1   9   6\n",
      "  -9  -4   0  -8  -5  -7   1 -10   3  -8   3  -1  -9  -4   7  -7  -5   6\n",
      "   7   5  -5   6   5   9  -1   8   3   4   5   6   1 -10   9   7   7   6\n",
      "   0  -2  -2   4   7  -2  -2  -6  -6 -10   6  -5  -3  -7  -4  -1   3   9\n",
      " -10   1   8  -6   3  -2   6  -5   5  -7 -10   7   1   2  -5   2   9   6\n",
      "  -2   1  -4  10  10   1   9   0  -9   0  -1   1   2  -6  -4   8   0  10]\n"
     ]
    }
   ],
   "source": [
    "# Your code:\n",
    "array = np.random.randint(-10, 11, size = 450)\n",
    "\n",
    "print(array)"
   ]
  },
  {
   "cell_type": "markdown",
   "metadata": {},
   "source": [
    "#### Resize the above array as a 5x70 matrix. \n",
    "#### Is there a problem? \n",
    "\n",
    "#### If there is, correct it to a suitable shape.\n",
    "\n",
    "We check what dimension our array has:"
   ]
  },
  {
   "cell_type": "code",
   "execution_count": 96,
   "metadata": {},
   "outputs": [
    {
     "name": "stdout",
     "output_type": "stream",
     "text": [
      "(450,)\n"
     ]
    }
   ],
   "source": [
    "# Your code:\n",
    "\n",
    "print(array.shape)\n",
    "\n",
    "# new_matrix = np.reshape(array, (5, 70))\n",
    "\n",
    "# print(new_matrix)\n",
    "\n",
    "# Is there a problem? Why?\n",
    "# Yes, there is a problem. A 5x70 matrix fits 350 elements, not 450 elements.\n",
    "# The array cannot be reshaped"
   ]
  },
  {
   "cell_type": "code",
   "execution_count": 29,
   "metadata": {},
   "outputs": [
    {
     "data": {
      "text/plain": [
       "(450,)"
      ]
     },
     "execution_count": 29,
     "metadata": {},
     "output_type": "execute_result"
    }
   ],
   "source": [
    "array.shape"
   ]
  },
  {
   "cell_type": "markdown",
   "metadata": {},
   "source": [
    "We resize:"
   ]
  },
  {
   "cell_type": "code",
   "execution_count": 76,
   "metadata": {},
   "outputs": [
    {
     "name": "stdout",
     "output_type": "stream",
     "text": [
      "[  3  -4   2   1   1  -1  -7  -9   8  -6   1   2   6  -7  -8  -9  -5  -3\n",
      "  -6  -2  -6   5  -9  -9  -7  -2   9 -10   8  -3   4   9   8  -4 -10   6\n",
      "  -5  -4  -1  -8   9   9   5 -10  -1   4 -10  10   9   6  -3   0   1   9\n",
      "  -3   0   6 -10   4   6   8  -5   4   4   0  -4  -6   2   4  -5  -2  -3\n",
      "  -7   6   6   3  -7   0  -9   0   2  -9 -10 -10  -7  -6   1   9  -5   5\n",
      " -10  -8   2   4   6   5   3   1  -1   2   1  -9  -1   0   4   1  -6  -5\n",
      "   7  -4  -9   2   0   6   3  -2   5   2   9  -2  -9   8  -7   9  -7  -9\n",
      "   6  -6   5   6   6  -9   2  -6  -5  -1   8  -5  -6   4  -6  -3  10   3\n",
      "  -8  -8  -9   0  -1  -5   1  -9   0  10   8   3  -8   5   9   3   7  -6\n",
      "  -7  -1   2   8  -5   5   3  -5  -4  -6   7   4   1   4  -9   1  -7  -4\n",
      "  -7   6   2  -1   1  -7 -10   4   1   2  -9  -5   9  -6  -3   9   7   4\n",
      "  -9   1   2  -3   8   2  -4   5  -3  -9  -3   1   4  -9   6   2   9  -9\n",
      "   9  -2 -10   1   4   9  -7  -8   9   6   0   4  10   8  10   9  -1   4\n",
      "   7  10   9   7  10  10  -3 -10   4  -5  -2   0   9   6  -7   7   5   7\n",
      "   3   4   5   2   6   2  -3   2   4   7   2   4  -2   1   2   3  -1   4\n",
      "   8  10  -5   7   0   7  -8  -8  -6   4   9  -2   9   2  10 -10   9  10\n",
      "  -8   5   9   9  -2  -3  -2   0  -8   6  -4  -3   7   7   1 -10  -7   7\n",
      "  -5 -10  -6  -7   5   6   7   5  -4  -8   2   9   8  -8  -6   6   0 -10\n",
      "   3   7   6  -9   9   8  -5  10   9   8  -7  -8   7  -7  -6  -6  -8   1\n",
      "  10  -6  -7   4  -3  -2   8  -6]\n"
     ]
    }
   ],
   "source": [
    "# Resize truncates the original array to fit the new size\n",
    "corrected_matrix = np.resize(array, (5, 70))\n",
    "\n",
    "print(corrected_matrix)"
   ]
  },
  {
   "cell_type": "markdown",
   "metadata": {},
   "source": [
    "#### Choose values greater than 0 from your corrected_matrix."
   ]
  },
  {
   "cell_type": "code",
   "execution_count": 78,
   "metadata": {},
   "outputs": [
    {
     "name": "stdout",
     "output_type": "stream",
     "text": [
      "[ 3  2  1  1  8  1  2  6  5  9  8  4  9  8  6  9  9  5  4 10  9  6  1  9\n",
      "  6  4  6  8  4  4  2  4  6  6  3  2  1  9  5  2  4  6  5  3  1  2  1  4\n",
      "  1  7  2  6  3  5  2  9  8  9  6  5  6  6  2  8  4 10  3  1 10  8  3  5\n",
      "  9  3  7  2  8  5  3  7  4  1  4  1  6  2  1  4  1  2  9  9  7  4  1  2\n",
      "  8  2  5  1  4  6  2  9  9  1  4  9  9  6  4 10  8 10  9  4  7 10  9  7\n",
      " 10 10  4  9  6  7  5  7  3  4  5  2  6  2  2  4  7  2  4  1  2  3  4  8\n",
      " 10  7  7  4  9  9  2 10  9 10  5  9  9  6  7  7  1  7  5  6  7  5  2  9\n",
      "  8  6  3  7  6  9  8 10  9  8  7  1 10  4  8]\n"
     ]
    }
   ],
   "source": [
    "# Select values greater than 0\n",
    "values = corrected_matrix[corrected_matrix > 0]\n",
    "\n",
    "print(values)"
   ]
  },
  {
   "cell_type": "markdown",
   "metadata": {},
   "source": [
    "#### Given this array x = np.array ([- 5,6, -7,9]), create another array in absolute value "
   ]
  },
  {
   "cell_type": "code",
   "execution_count": 84,
   "metadata": {},
   "outputs": [
    {
     "name": "stdout",
     "output_type": "stream",
     "text": [
      "[5 6 7 9]\n"
     ]
    }
   ],
   "source": [
    "# Given array\n",
    "x = np.array([-5, 6, -7, 9])\n",
    "\n",
    "# New array with absolute values\n",
    "absolute_value = np.abs(x)\n",
    "\n",
    "print(absolute_value)"
   ]
  },
  {
   "cell_type": "markdown",
   "metadata": {},
   "source": [
    "#### Given this array x = np.array ([- 5,6, -7,9]), transform it into a 2x2 matrix and calculate the maximum and minimum of each row and column. "
   ]
  },
  {
   "cell_type": "code",
   "execution_count": 106,
   "metadata": {},
   "outputs": [
    {
     "name": "stdout",
     "output_type": "stream",
     "text": [
      "[[-5  6]\n",
      " [-7  9]]\n",
      "\n",
      "row max:  [6 9]\n",
      "row min:  [-5 -7]\n",
      "col max:  [-5  9]\n",
      "col min:  [-7  6]\n"
     ]
    }
   ],
   "source": [
    "# Given array\n",
    "x = np.array([-5, 6, -7, 9])\n",
    "\n",
    "# 2x2 matrix\n",
    "x_reshaped = x.reshape(2, 2)\n",
    "\n",
    "print(x_reshaped)\n",
    "print()\n",
    "\n",
    "# Calculate max and min\n",
    "row_max = np.max(x_reshaped, axis = 1)\n",
    "row_min = np.min(x_reshaped, axis = 1)\n",
    "col_max = np.max(x_reshaped, axis = 0)\n",
    "col_min = np.min(x_reshaped, axis = 0)\n",
    "\n",
    "# Print output\n",
    "print(\"row max: \", row_max)\n",
    "print(\"row min: \", row_min)\n",
    "print(\"col max: \", col_max)\n",
    "print(\"col min: \", col_min)"
   ]
  },
  {
   "cell_type": "markdown",
   "metadata": {},
   "source": [
    "#### Create a matrix of ones with 3x3 range as a_ones, and modify the the a_ones[1][0] = 3  "
   ]
  },
  {
   "cell_type": "code",
   "execution_count": 116,
   "metadata": {},
   "outputs": [
    {
     "name": "stdout",
     "output_type": "stream",
     "text": [
      "[[1. 1. 1.]\n",
      " [1. 1. 1.]\n",
      " [1. 1. 1.]]\n",
      "\n",
      "Modified matrix:\n",
      "[[1. 1. 1.]\n",
      " [3. 1. 1.]\n",
      " [1. 1. 1.]]\n"
     ]
    }
   ],
   "source": [
    "# 3x3 matrix\n",
    "a_ones = np.ones((3, 3))\n",
    "\n",
    "print(a_ones)\n",
    "print()\n",
    "\n",
    "# Modify value at position [1][0]\n",
    "a_ones[1][0] = 3\n",
    "\n",
    "print(\"Modified matrix:\")\n",
    "print(a_ones)"
   ]
  },
  {
   "cell_type": "markdown",
   "metadata": {},
   "source": [
    "#### Compute dot product for a_ones and x_reshaped"
   ]
  },
  {
   "cell_type": "code",
   "execution_count": 130,
   "metadata": {},
   "outputs": [
    {
     "name": "stdout",
     "output_type": "stream",
     "text": [
      "[[-5]\n",
      " [ 6]\n",
      " [-7]\n",
      " [ 9]]\n",
      "\n",
      "[[1. 1. 1. 1.]\n",
      " [1. 1. 1. 1.]\n",
      " [1. 1. 1. 1.]]\n",
      "\n",
      "Result: \n",
      "[[3.]\n",
      " [3.]\n",
      " [3.]]\n"
     ]
    }
   ],
   "source": [
    "# Reshape x and a_ones\n",
    "x_reshaped = x.reshape(4, 1)\n",
    "a_ones_reshaped = np.ones((3, 4))\n",
    "\n",
    "print(x_reshaped)\n",
    "print()\n",
    "print(a_ones_reshaped)\n",
    "print()\n",
    "\n",
    "# Dot product\n",
    "dot_product = np.dot(a_ones_reshaped, x_reshaped)\n",
    "\n",
    "print(\"Result: \")\n",
    "print(dot_product)\n",
    "\n",
    "# List the mathematical calculation steps\n",
    "# 3 = -5 + 6 + (-7) + 9\n",
    "# 3 = -5 + 6 + (-7) + 9\n",
    "# 3 = -5 + 6 + (-7) + 9"
   ]
  },
  {
   "cell_type": "markdown",
   "metadata": {},
   "source": [
    "## Exercise 2 - Plot Practice"
   ]
  },
  {
   "cell_type": "markdown",
   "metadata": {},
   "source": [
    "#### Undergraduate student Instructions (CS457)\n",
    "\n",
    "- Let's think if we have this function: f (t) defined by: f (t) = 2t / (1 + t ^ 2) ^ 2 with t> 0.\n",
    "- Where t could be generated by np.linspace(0,10,100)\n",
    "- Provide plot results"
   ]
  },
  {
   "cell_type": "code",
   "execution_count": 140,
   "metadata": {},
   "outputs": [],
   "source": [
    "# Function\n",
    "def y(t):\n",
    "    return 2 * t / (1 + t**2)**2\n",
    "\n",
    "# Generate t values\n",
    "x_values = np.linspace(0, 10, 100)\n",
    "\n",
    "# Compute f(t) values\n",
    "y_values = y(x_values)"
   ]
  },
  {
   "cell_type": "code",
   "execution_count": 164,
   "metadata": {},
   "outputs": [
    {
     "data": {
      "image/png": "[encoded data removed]",
      "text/plain": [
       "<Figure size 800x500 with 1 Axes>"
      ]
     },
     "metadata": {},
     "output_type": "display_data"
    }
   ],
   "source": [
    "# Plot graph with x, y and label set the fontsize = 14\n",
    "# Plot <Your Name> + title and set the fontsize = 14\n",
    "# plot size as (8,5)\n",
    "# plot with legend\n",
    "# plot with grid\n",
    "\n",
    "plt.figure(figsize=(8, 5))\n",
    "plt.plot(x_values, y_values, label=r'$y = \\frac{2x}{(1+x^2)^2}$')\n",
    "plt.title(\"Yarixa Perez + Graph of $y = \\\\frac{2x}{(1+x^2)^2}$\", fontsize=14)\n",
    "plt.xlabel('x', fontsize = 14, color='red')\n",
    "plt.ylabel('y', fontsize = 14, color='green')\n",
    "plt.legend(fontsize=14)\n",
    "plt.grid(True)\n",
    "plt.show()"
   ]
  },
  {
   "cell_type": "markdown",
   "metadata": {},
   "source": [
    "#### Graduate student Instructions (CS557)\n",
    "\n",
    "- Let's think if we have this function: f (t) defined by: f (t) = 2t / (1 + t ^ 2) ^ 2 with t> 0.\n",
    "- Where t could be generated by np.linspace(0,10,100)\n",
    "- Provide line graph with mask = star\n",
    "- Provide bar graph with any 5 points data"
   ]
  },
  {
   "cell_type": "code",
   "execution_count": null,
   "metadata": {},
   "outputs": [],
   "source": [
    "# Your code:\n"
   ]
  },
  {
   "cell_type": "code",
   "execution_count": null,
   "metadata": {},
   "outputs": [],
   "source": [
    "# Line Graph\n",
    "# Plot graph with x, y and label set the fontsize = 14\n",
    "# Plot <Your Name> + title and set the fontsize = 14\n",
    "# plot size as (8,5)\n",
    "# plot with legend\n",
    "# plot with grid\n",
    "\n",
    "\n",
    "plt.title(\"<Your Name> + Graph of $y = \\\\frac{2x}{(1+x^2)^2}$\", fontsize=14)\n",
    "\n",
    "plt.show()"
   ]
  },
  {
   "cell_type": "code",
   "execution_count": null,
   "metadata": {},
   "outputs": [],
   "source": [
    "# Bar Graph\n",
    "# Plot graph with x, y and label set the fontsize = 14\n",
    "# Plot <Your Name> + title and set the fontsize = 14\n",
    "# plot size as (8,5)\n",
    "# plot with legend\n",
    "# plot with grid\n",
    "\n",
    "\n",
    "plt.title(\"<Your Name> + Graph of $y = \\\\frac{2x}{(1+x^2)^2}$\", fontsize=14)\n",
    "\n",
    "plt.show()"
   ]
  },
  {
   "cell_type": "markdown",
   "metadata": {},
   "source": [
    "# Exercise 3 - Pandas "
   ]
  },
  {
   "cell_type": "markdown",
   "metadata": {},
   "source": [
    "#### You have obtained a piece of data about a hill. Please manually assign this data to a dictionary.\n",
    "\n",
    "\n",
    "\"Hill Name\": [\"Everest\", \"K2\", \"Kangchenjunga\", \"Lhotse\", \"Makalu\", \"Cho Oyu\", \"Dhaulagiri\", \"Manaslu\", \"Nanga Parbat\", \"Annapurna\"],\n",
    "\n",
    "\"Height (m)\": [8848, 8611, 8586, 8516, 8485, 8188, 8167, 8163, 8126, 8091],\n",
    "\n",
    "\"Location\": [\"Nepal/China\", \"Pakistan/China\", \"Nepal/India\", \"Nepal/China\", \"Nepal/China\", \"Nepal/China\", \"Nepal\", \"Nepal\", \"Pakistan\", \"Nepal\"],\n",
    "\n",
    "\"First Ascent Year\": [1953, 1954, 1955, 1956, 1955, 1954, 1960, 1956, 1953, 1950],\n",
    "\n",
    "\"Prominence (m)\": [8848, 4017, 3922, 610, 2378, 2340, 3357, 3092, 4608, 2984]\n"
   ]
  },
  {
   "cell_type": "code",
   "execution_count": null,
   "metadata": {},
   "outputs": [],
   "source": [
    "# Your code: \n",
    "hill_data =  # your code"
   ]
  },
  {
   "cell_type": "markdown",
   "metadata": {},
   "source": [
    "#### Convert your dictionary to a pandas dataframe with name hill_pd"
   ]
  },
  {
   "cell_type": "code",
   "execution_count": null,
   "metadata": {},
   "outputs": [],
   "source": [
    "\n",
    "#Your code:\n"
   ]
  },
  {
   "cell_type": "markdown",
   "metadata": {},
   "source": [
    "#### Save your hill_pd to csv"
   ]
  },
  {
   "cell_type": "code",
   "execution_count": null,
   "metadata": {},
   "outputs": [],
   "source": [
    "# Your code:\n"
   ]
  },
  {
   "cell_type": "markdown",
   "metadata": {},
   "source": [
    "#### Read your hill data from your csv"
   ]
  },
  {
   "cell_type": "code",
   "execution_count": null,
   "metadata": {},
   "outputs": [],
   "source": [
    "# your code\n"
   ]
  },
  {
   "cell_type": "markdown",
   "metadata": {},
   "source": [
    "#### Please select hills with an altitude higher than 8100 meters and express them in the form of a bar graph."
   ]
  },
  {
   "cell_type": "code",
   "execution_count": null,
   "metadata": {},
   "outputs": [],
   "source": [
    "# your code:\n",
    "\n",
    "selected_hill = #"
   ]
  },
  {
   "cell_type": "code",
   "execution_count": null,
   "metadata": {},
   "outputs": [],
   "source": [
    "# Visualization\n",
    "# Need to add x,y labels, titles and grid.\n",
    "# Please add your name on graph titles.\n",
    "\n",
    "# your code\n"
   ]
  },
  {
   "cell_type": "markdown",
   "metadata": {},
   "source": [
    "#### For Graduate students only (CS557)\n",
    "\n",
    "Please add another set of visualizations using the **Prominence** data and explain their significance."
   ]
  },
  {
   "cell_type": "code",
   "execution_count": null,
   "metadata": {},
   "outputs": [],
   "source": []
  }
 ],
 "metadata": {
  "kernelspec": {
   "display_name": "Python [conda env:base] *",
   "language": "python",
   "name": "conda-base-py"
  },
  "language_info": {
   "codemirror_mode": {
    "name": "ipython",
    "version": 3
   },
   "file_extension": ".py",
   "mimetype": "text/x-python",
   "name": "python",
   "nbconvert_exporter": "python",
   "pygments_lexer": "ipython3",
   "version": "3.12.7"
  }
 },
 "nbformat": 4,
 "nbformat_minor": 4
}
