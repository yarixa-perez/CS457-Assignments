{
 "cells": [
  {
   "cell_type": "markdown",
   "id": "488b8266",
   "metadata": {},
   "source": [
    "# Lab Assignment: Building a Neural Network from Scratch\n",
    "\n",
    "### Objective\n",
    "This lab guides you through the implementation of a simple feedforward neural network from scratch. \n",
    "By completing this lab, you will:\n",
    "- Initialize a neural network with weights and biases.\n",
    "- Compute the weighted sum at each node.\n",
    "- Apply activation functions for node outputs.\n",
    "- Perform forward propagation to compute predictions.\n",
    "- Implement backpropagation to compute gradients.\n",
    "- Update weights using gradients to minimize the loss."
   ]
  },
  {
   "cell_type": "markdown",
   "id": "2668a14e",
   "metadata": {},
   "source": [
    "## Step 1: Initialize the Network"
   ]
  },
  {
   "cell_type": "code",
   "execution_count": 199,
   "id": "396df339",
   "metadata": {},
   "outputs": [
    {
     "name": "stdout",
     "output_type": "stream",
     "text": [
      "Yarixa + Initialized Network: {'layer_1': {'node_1': {'weights': array([0.37, 0.95, 0.73]), 'bias': array([0.6])}, 'node_2': {'weights': array([0.16, 0.16, 0.06]), 'bias': array([0.87])}, 'node_3': {'weights': array([0.6 , 0.71, 0.02]), 'bias': array([0.97])}, 'node_4': {'weights': array([0.83, 0.21, 0.18]), 'bias': array([0.18])}}, 'layer_2': {'node_1': {'weights': array([0.3 , 0.52, 0.43, 0.29]), 'bias': array([0.61])}, 'node_2': {'weights': array([0.14, 0.29, 0.37, 0.46]), 'bias': array([0.79])}, 'node_3': {'weights': array([0.2 , 0.51, 0.59, 0.05]), 'bias': array([0.61])}}, 'output': {'node_1': {'weights': array([0.17, 0.07, 0.95]), 'bias': array([0.97])}}}\n"
     ]
    }
   ],
   "source": [
    "import numpy as np\n",
    "\n",
    "np.random.seed(42) # For reproducibility\n",
    "\n",
    "def initialize_network(input_size, hidden_layers, output_size):\n",
    "    \n",
    "    num_nodes_previous = input_size # number of nodes in the previous layer\n",
    "    num_hidden_layers = len(hidden_layers) # number of nodes in the hidden layer\n",
    "\n",
    "    network = {} # initialize as an empty dictionary\n",
    "\n",
    "    \n",
    "    # loop through each layer and randomly initialize the weights and biases asscoiated with each layer\n",
    "    for layer in range(num_hidden_layers + 1):\n",
    "        \n",
    "        # determine name of the layer\n",
    "        if layer == num_hidden_layers:\n",
    "            layer_name = 'output' # name last layer in the network output\n",
    "            num_nodes = output_size\n",
    "        else:\n",
    "            layer_name = 'layer_{}'.format(layer+1) # otherwise give the layer a number\n",
    "            num_nodes = hidden_layers[layer]\n",
    "\n",
    "        # initialize weights and bias for each node\n",
    "        network[layer_name] = {}\n",
    "        for node in range(num_nodes):\n",
    "            node_name = 'node_{}'.format(node+1)\n",
    "            network[layer_name][node_name] = {\n",
    "                'weights': np.around(np.random.uniform(size=num_nodes_previous), decimals=2),\n",
    "                'bias': np.around(np.random.uniform(size=1), decimals=2)\n",
    "            }\n",
    "\n",
    "        num_nodes_previous = num_nodes\n",
    "\n",
    "    return network\n",
    "\n",
    "# Initialize a network with 3 inputs, 2 hidden layers (4 and 3 nodes), and 1 output node\n",
    "network = initialize_network(3, [4, 3], 1)\n",
    "print(\"Yarixa + Initialized Network:\", network)"
   ]
  },
  {
   "cell_type": "markdown",
   "id": "3ecfdd84",
   "metadata": {},
   "source": [
    "## Step 2: Compute Weighted Sum"
   ]
  },
  {
   "cell_type": "code",
   "execution_count": 202,
   "id": "66c4ad58",
   "metadata": {},
   "outputs": [
    {
     "name": "stdout",
     "output_type": "stream",
     "text": [
      "Yarixa + Weighted Sum: [1.048]\n"
     ]
    }
   ],
   "source": [
    "def compute_weighted_sum(inputs, weights, biases):\n",
    "    # Please numpy dot to calculate the compute weighted with linear\n",
    "    return np.sum(np.dot(inputs, weights)) + biases\n",
    "    \n",
    "# Test weighted sum\n",
    "inputs = np.array([[0.5, 0.2, 0.1]])\n",
    "layer = network['layer_1'] # First layer\n",
    "Z = compute_weighted_sum(inputs, layer['node_1']['weights'], layer['node_1']['bias'])\n",
    "print(\"Yarixa + Weighted Sum:\", Z)"
   ]
  },
  {
   "cell_type": "markdown",
   "id": "7d82553f",
   "metadata": {},
   "source": [
    "## Step 3: Compute Node Activation"
   ]
  },
  {
   "cell_type": "code",
   "execution_count": 205,
   "id": "36b00bf0",
   "metadata": {},
   "outputs": [
    {
     "name": "stdout",
     "output_type": "stream",
     "text": [
      "Yarixa + Activation: [0.74039066]\n"
     ]
    }
   ],
   "source": [
    "def sigmoid(Z):\n",
    "    return 1 / (1 + np.exp(-1 * Z))\n",
    "\n",
    "def sigmoid_derivative(A):\n",
    "    return A * (1 - A)\n",
    "    \n",
    "# Compute activation for the weighted sum\n",
    "A = sigmoid(Z)\n",
    "print(\"Yarixa + Activation:\", A)"
   ]
  },
  {
   "cell_type": "markdown",
   "id": "769f9c55",
   "metadata": {},
   "source": [
    "## Step 4: Perform Forward Propagation"
   ]
  },
  {
   "cell_type": "code",
   "execution_count": 208,
   "id": "5d2e9d28",
   "metadata": {},
   "outputs": [
    {
     "name": "stdout",
     "output_type": "stream",
     "text": [
      "[array([[0.5, 0.2, 0.1]]), array([0.74039066, 0.7286927 , 0.80439608, 0.65813632]), array([0.85167349, 0.84623151, 0.83715521]), array([0.87753786])]\n",
      "Yarixa + Final Output: [0.87753786]\n"
     ]
    }
   ],
   "source": [
    "def forward_propagation(inputs, network):\n",
    "    \"\"\"\n",
    "    Perform forward propagation through the network\n",
    "    Arguments:\n",
    "        inputs: Input array\n",
    "        network: Network dictionary with weights and biases\n",
    "    Returns:\n",
    "        activations: List of activations for all layers\n",
    "    \"\"\"\n",
    "    activations = [inputs]\n",
    "\n",
    "    for layer in network.values():\n",
    "        layer_output = []\n",
    "\n",
    "        for node in layer.values():\n",
    "            z = np.dot(activations[-1], node['weights']) + node['bias']\n",
    "            a = sigmoid(z)\n",
    "            layer_output.append(a)\n",
    "\n",
    "        activations.append(np.array(layer_output).flatten())\n",
    "\n",
    "    return activations\n",
    "\n",
    "# Perform forward propagation\n",
    "activations = forward_propagation(inputs, network)\n",
    "print(activations)\n",
    "print(\"Yarixa + Final Output:\", activations[-1])"
   ]
  },
  {
   "cell_type": "markdown",
   "id": "e342f58d",
   "metadata": {},
   "source": [
    "## Step 5: Backpropagation"
   ]
  },
  {
   "cell_type": "code",
   "execution_count": 211,
   "id": "1ec4d75a",
   "metadata": {},
   "outputs": [
    {
     "name": "stdout",
     "output_type": "stream",
     "text": [
      "Yarixa + Gradients: [{'dW': array([[-0.01120838, -0.01113676, -0.01101731]]), 'db': array([[-0.01316041]])}, {'dW': array([[-2.09252825e-04, -2.05946692e-04, -2.27342350e-04,\n",
      "        -1.86005701e-04],\n",
      "       [-8.87534173e-05, -8.73511393e-05, -9.64259884e-05,\n",
      "        -7.88932792e-05],\n",
      "       [-1.26192625e-03, -1.24198819e-03, -1.37101748e-03,\n",
      "        -1.12173146e-03]]), 'db': array([[-0.00028262],\n",
      "       [-0.00011987],\n",
      "       [-0.00170441]])}, {'dW': array([[-4.25222676e-05, -1.70089070e-05, -8.50445351e-06],\n",
      "       [-1.03888730e-04, -4.15554921e-05, -2.07777460e-05],\n",
      "       [-9.21622224e-05, -3.68648890e-05, -1.84324445e-05],\n",
      "       [-2.50105992e-05, -1.00042397e-05, -5.00211985e-06]]), 'db': array([[-8.50445351e-05],\n",
      "       [-2.07777460e-04],\n",
      "       [-1.84324445e-04],\n",
      "       [-5.00211985e-05]])}]\n"
     ]
    }
   ],
   "source": [
    "def backpropagation(network, activations, y_true):\n",
    "    \"\"\"\n",
    "    Perform back propagation to calculate gradients\n",
    "    Arguments:\n",
    "        network: Dictionary containing layers with weights and biases\n",
    "        activations: List of activations from forward propagation\n",
    "        y_true: Ground truth labels\n",
    "    Returns:\n",
    "        gradients: List of dictionaries containing dW and db for each layer\n",
    "    \"\"\"\n",
    "    gradients = []\n",
    "\n",
    "    # Compute delta for output layer\n",
    "    delta = (activations[-1] - y_true) * sigmoid_derivative(activations[-1])\n",
    "\n",
    "    # Iterate backward through layers\n",
    "    for layer_idx in reversed(range(len(network))):\n",
    "        layer_name = list(network.keys())[layer_idx]\n",
    "        current_layer = network[layer_name]\n",
    "\n",
    "        dW_list = []\n",
    "        db_list = []\n",
    "\n",
    "        for node_idx, (node_name, node_data) in enumerate(current_layer.items()):\n",
    "            # Previous layer activations\n",
    "            a_prev = activations[layer_idx]\n",
    "\n",
    "            # Compute gradients\n",
    "            dW = np.outer(delta[node_idx], a_prev)\n",
    "            db = delta[node_idx]\n",
    "\n",
    "            dW_list.append(dW)\n",
    "            db_list.append(db)\n",
    "\n",
    "        # Stack gradients for this year\n",
    "        dW_matrix = np.vstack(dW_list)\n",
    "        db_matrix = np.vstack(db_list)\n",
    "\n",
    "        # Append to the gradient list\n",
    "        gradients.append({'dW': dW_matrix, 'db': db_matrix})\n",
    "\n",
    "        # Compute delta for the previous layer (except input layer)\n",
    "        if layer_idx > 0:\n",
    "            weight_matrix = np.array([node['weights'] for node in current_layer.values()])\n",
    "            # Fix shape issue\n",
    "            delta = np.dot(weight_matrix.T, delta.reshape(-1, 1)).flatten()\n",
    "            \n",
    "            # Apply sigmoid derivative\n",
    "            delta *= sigmoid_derivative(activations[layer_idx])\n",
    "            \n",
    "    return gradients\n",
    "\n",
    "# Compute gradients\n",
    "y_true = np.array([[1]])  # Example target output\n",
    "gradients = backpropagation(network, activations, y_true)\n",
    "print(\"Yarixa + Gradients:\", gradients)"
   ]
  },
  {
   "cell_type": "markdown",
   "id": "d6b81797-9f82-493a-a509-b1360f04071c",
   "metadata": {},
   "source": [
    "## Step 6: Update Weights"
   ]
  },
  {
   "cell_type": "code",
   "execution_count": 216,
   "id": "33990e4e-9a02-4728-9ff5-fc41e7ef42be",
   "metadata": {},
   "outputs": [
    {
     "name": "stdout",
     "output_type": "stream",
     "text": [
      "Yarixa + Updated Network: {'layer_1': {'node_1': {'weights': array([0.37224168, 0.95222735, 0.73220346]), 'bias': array([0.60263208])}, 'node_2': {'weights': array([0.16, 0.16, 0.06]), 'bias': array([0.87])}, 'node_3': {'weights': array([0.6 , 0.71, 0.02]), 'bias': array([0.97])}, 'node_4': {'weights': array([0.83, 0.21, 0.18]), 'bias': array([0.18])}}, 'layer_2': {'node_1': {'weights': array([0.30002093, 0.52002059, 0.43002273, 0.2900186 ]), 'bias': array([0.61002826])}, 'node_2': {'weights': array([0.14000888, 0.29000874, 0.37000964, 0.46000789]), 'bias': array([0.79001199])}, 'node_3': {'weights': array([0.20012619, 0.5101242 , 0.5901371 , 0.05011217]), 'bias': array([0.61017044])}}, 'output': {'node_1': {'weights': array([0.17000425, 0.0700017 , 0.95000085]), 'bias': array([0.9700085])}}}\n"
     ]
    }
   ],
   "source": [
    "def update_weights(network, gradients, learning_rate):\n",
    "    \"\"\"\n",
    "    Update the weights and biases of the network using the computed gradients\n",
    "    Arguments:\n",
    "        network: Dictionary containing layers with weights and biases\n",
    "        gradients: List of dictionaries containing dW and db for each layer\n",
    "        learning_rate: Learning rate for gradient descent\n",
    "    \"\"\"\n",
    "    for layer_idx, (layer_name, gradient_layer) in enumerate(zip(network.keys(), gradients)):\n",
    "        current_layer = network[layer_name]\n",
    "\n",
    "        for (node_name, node_data), dW, db in zip(current_layer.items(), gradient_layer['dW'], gradient_layer['db']):\n",
    "            # Update weights and biases\n",
    "            node_data['weights'] -= learning_rate * dW\n",
    "            node_data['bias'] -= learning_rate * db\n",
    "\n",
    "# Update weights with a learning rate of 0.1\n",
    "update_weights(network, gradients, learning_rate=0.1)\n",
    "print(\"Yarixa + Updated Network:\", network)"
   ]
  },
  {
   "cell_type": "markdown",
   "id": "ed55add1",
   "metadata": {},
   "source": [
    "## Step 7: Visualizing Loss Changes"
   ]
  },
  {
   "cell_type": "code",
   "execution_count": 185,
   "id": "9fe355dc",
   "metadata": {},
   "outputs": [],
   "source": [
    "# Use MSE to compute the loss \n",
    "def compute_loss(y_true, y_pred):\n",
    "    \"\"\"\n",
    "    Compute the Mean Squared Error (MSE) loss.\n",
    "    Arguments:\n",
    "        y_true: Ground truth labels (numpy array).\n",
    "        y_pred: Predicted output from the network (numpy array).\n",
    "    Returns:\n",
    "        Mean Squared Error (scalar value).\n",
    "    \"\"\"\n",
    "    return np.mean((y_true - y_pred) ** 2)"
   ]
  },
  {
   "cell_type": "code",
   "execution_count": 220,
   "id": "f7270921",
   "metadata": {},
   "outputs": [
    {
     "data": {
      "image/png": "[encoded data removed]",
      "text/plain": [
       "<Figure size 640x480 with 1 Axes>"
      ]
     },
     "metadata": {},
     "output_type": "display_data"
    }
   ],
   "source": [
    "import matplotlib.pyplot as plt\n",
    "\n",
    "# Training Loop\n",
    "losses = []\n",
    "inputs = np.array([[0.5, 0.2, 0.1]])\n",
    "y_true = np.array([[1]])\n",
    "learning_rate = 0.1\n",
    "\n",
    "for iteration in range(100):\n",
    "\n",
    "    # Perform forward propagation to compute the network's predictions\n",
    "    # Forward_propagation function with inputs network\n",
    "    activations = forward_propagation(inputs, network)\n",
    "\n",
    "    # Compute the loss (error) between the true labels and the predicted output\n",
    "    # Compute loss for y_true and activations[-1]\n",
    "    loss = compute_loss(y_true, activations[-1])\n",
    "    losses.append(loss)\n",
    "\n",
    "    # Perform backpropagation to compute gradients\n",
    "    gradients = backpropagation(network, activations, y_true)\n",
    "\n",
    "    # Update weights\n",
    "    update_weights(network, gradients, learning_rate)\n",
    "    \n",
    "# Plot Loss and rerun all cells\n",
    "plt.plot(losses)\n",
    "plt.title(\"Yarixa + Loss Before and After Weight Updates\")\n",
    "plt.xlabel(\"Iterations\")\n",
    "plt.ylabel(\"Loss\")\n",
    "plt.show()"
   ]
  },
  {
   "cell_type": "markdown",
   "id": "737f4b49-9f2b-4e5c-8f75-cb102fc858e0",
   "metadata": {},
   "source": [
    "### Step 8: Visualizing Gradients Changes (Graduate students)"
   ]
  },
  {
   "cell_type": "markdown",
   "id": "42a89b54-adeb-4a5d-89b2-1883ce9634a7",
   "metadata": {},
   "source": [
    "Please pick a weight and plot the gradient change\n",
    "\n",
    "You need to point which weight you pick and label it on your graph."
   ]
  },
  {
   "cell_type": "code",
   "execution_count": null,
   "id": "e59f30cb-09da-48e9-9551-d9055db6e26b",
   "metadata": {},
   "outputs": [],
   "source": [
    "# Your code"
   ]
  },
  {
   "cell_type": "code",
   "execution_count": null,
   "id": "57f0d830-3ed2-4d96-9a72-3cca41792c07",
   "metadata": {},
   "outputs": [],
   "source": []
  }
 ],
 "metadata": {
  "kernelspec": {
   "display_name": "Python [conda env:base] *",
   "language": "python",
   "name": "conda-base-py"
  },
  "language_info": {
   "codemirror_mode": {
    "name": "ipython",
    "version": 3
   },
   "file_extension": ".py",
   "mimetype": "text/x-python",
   "name": "python",
   "nbconvert_exporter": "python",
   "pygments_lexer": "ipython3",
   "version": "3.12.7"
  }
 },
 "nbformat": 4,
 "nbformat_minor": 5
}
