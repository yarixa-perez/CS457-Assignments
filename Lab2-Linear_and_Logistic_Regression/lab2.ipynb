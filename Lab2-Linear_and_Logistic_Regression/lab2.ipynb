{
 "cells": [
  {
   "cell_type": "markdown",
   "id": "a4e97256",
   "metadata": {},
   "source": [
    "# **Lab Exercise: Linear and Logistic Regression**"
   ]
  },
  {
   "cell_type": "markdown",
   "id": "5f13e57d-2212-4089-9e8d-0776dfba9eb7",
   "metadata": {},
   "source": [
    "## **Linear Regression Construction** "
   ]
  },
  {
   "cell_type": "markdown",
   "id": "4f702d80",
   "metadata": {},
   "source": [
    "#### **Section 1: Setting Up and Importing Libraries**\n",
    "*Objective:* Load the required `Python libraries`.\n"
   ]
  },
  {
   "cell_type": "code",
   "execution_count": 3,
   "id": "8b5c3769-8e6d-4774-86db-612a37163e71",
   "metadata": {},
   "outputs": [],
   "source": [
    "import numpy as np\n",
    "import pandas as pd\n",
    "import matplotlib.pyplot as plt"
   ]
  },
  {
   "cell_type": "markdown",
   "id": "ce42d797-2458-4e79-9c04-ff6264334aa1",
   "metadata": {},
   "source": [
    "#### **Section 2: Linear Regression Data Preparation**\n",
    "\n",
    "*Objective:* Create a dataset for linear regression.\n",
    "\n",
    "Task: Write the code to:\n",
    "\n",
    "Create a dataset with features and target variables for linear regression.\n",
    "Visualize the data using Matplotlib.\n"
   ]
  },
  {
   "cell_type": "code",
   "execution_count": 6,
   "id": "6eb0752f-ad50-42a9-8a61-ccb8e56408c8",
   "metadata": {},
   "outputs": [
    {
     "data": {
      "image/png": "[encoded data removed]",
      "text/plain": [
       "<Figure size 640x480 with 1 Axes>"
      ]
     },
     "metadata": {},
     "output_type": "display_data"
    }
   ],
   "source": [
    "# Generate synthetic data for linear regression\n",
    "np.random.seed(42)  # For reproducibility\n",
    "X = np.random.randint(1, 100, 20)  # Features (independent variable)\n",
    "y = 3 * X + 7 + np.random.normal(0, 15, 20)  # Target with noise\n",
    "\n",
    "# Visualize the data\n",
    "\n",
    "# You need to use scatter chart to Visualize the input dataset X & y\n",
    "# Your chart need to label the x-axis, y-axis and title\n",
    "# Your chart should use grid\n",
    "\n",
    "# Your code\n",
    "plt.scatter(X, y)\n",
    "plt.xlabel('Features')\n",
    "plt.ylabel('Target with noise')\n",
    "plt.title(\"Yarixa Perez + Graph of data for linear regression\", fontsize=14)\n",
    "plt.grid()\n",
    "plt.show()"
   ]
  },
  {
   "cell_type": "markdown",
   "id": "796b61db-a62b-49b8-9469-759c4d606496",
   "metadata": {},
   "source": [
    "#### **Section 3: Implementing Linear Regression**\n",
    "\n",
    "*Objective:* Practice linear regression construction.\n",
    "\n",
    "Task: Write the code to:\n",
    "\n",
    "Write a Linear Regression function to minimize the cost function and find the optimal parameters.\n",
    "\n",
    "\n",
    "For **Undergraduate students** (CS457): You can **choose** any of the following methods to implement it.\n",
    "1. You can use any scikit-learn library.\n",
    "2. Manually write cost function & gradient descent function to implement it.\n",
    "\n",
    "For **Graduate students** (CS557): You have to implement it by\n",
    "1. Manually write cost function & gradient descent function to implement it.\n"
   ]
  },
  {
   "cell_type": "code",
   "execution_count": 41,
   "id": "569087ba-89de-4a5e-94f2-fba6d1ee4580",
   "metadata": {},
   "outputs": [
    {
     "name": "stdout",
     "output_type": "stream",
     "text": [
      "Coefficient:  [[0.01062536]]\n",
      "Intercept [0.46210503]\n",
      "Class Participation:  [[0.54710792]]\n",
      "\n",
      "Class Participation:  [[0.49398111]]\n"
     ]
    },
    {
     "name": "stderr",
     "output_type": "stream",
     "text": [
      "C:\\Users\\Yarixa\\anaconda3\\Lib\\site-packages\\sklearn\\base.py:493: UserWarning: X does not have valid feature names, but LinearRegression was fitted with feature names\n",
      "  warnings.warn(\n"
     ]
    }
   ],
   "source": [
    "# Your code for linear regression model\n",
    "\n",
    "# Sklearn model\n",
    "from sklearn import linear_model\n",
    "\n",
    "# Prepare data\n",
    "df = pd.read_csv('Study_hour_data.csv')                        # Read data file\n",
    "new_df = df.drop('Passed', axis='columns')                     # Remove Passed value from dataframe table\n",
    "hours_df = new_df.drop('Class Participation', axis='columns')  # Remove Class Participation from new dataframe table\n",
    "part_df = new_df.drop('Hours of Study', axis='columns')        # Remove Hours of Study from new dataframe table\n",
    "\n",
    "X_train = hours_df    # Assign training data X = Hours of Study, Y = Class Participation\n",
    "y_train = part_df\n",
    "\n",
    "# Building the Model\n",
    "reg = linear_model.LinearRegression()    # Create linear regression object\n",
    "reg.fit(X_train, y_train)\n",
    "\n",
    "# Review Model parameter\n",
    "m = reg.coef_                            # Check coefficient (m) and intercept (b)\n",
    "b = reg.intercept_\n",
    "print(\"Coefficient: \", coef)\n",
    "print(\"Intercept\", inter)\n",
    "Y = m * 8 + b                            # Y = m * X + b (m is coefficient and b is intercept)\n",
    "print(\"Class Participation: \", Y)\n",
    "print()\n",
    "\n",
    "# Predict Class Participation with Hours of Study = 3\n",
    "res = reg.predict([[3]])\n",
    "print(\"Class Participation: \", res)"
   ]
  },
  {
   "cell_type": "code",
   "execution_count": 43,
   "id": "0a60ce07-9050-4863-9a88-f538137313fd",
   "metadata": {},
   "outputs": [
    {
     "name": "stdout",
     "output_type": "stream",
     "text": [
      "Optimized theta (parameters): [0.09124459 0.09119616]\n",
      "Final cost: 0.06643666333371076\n"
     ]
    }
   ],
   "source": [
    "import numpy as np\n",
    "import pandas as pd\n",
    "\n",
    "# Your code for linear regression model\n",
    "\n",
    "# Manually write cost function & gradient descent\n",
    "\n",
    "# your code\n",
    "df = pd.read_csv('Study_hour_data.csv')                        # Read data file\n",
    "new_df = df.drop('Passed', axis='columns')                     # Remove Passed value from dataframe table\n",
    "hours_df = new_df.drop('Class Participation', axis='columns')  # Remove Class Participation from new dataframe table\n",
    "part_df = new_df.drop('Hours of Study', axis='columns')        # Remove Hours of Study from new dataframe table\n",
    "\n",
    "# Reshape X to include a bias term (column of ones for the intercept) by np.column_stack\n",
    "theta = np.zeros(2)\n",
    "X = np.column_stack((np.ones(len(hours_df)), hours_df))\n",
    "y = df['Class Participation'].values.ravel()\n",
    "\n",
    "# Define the cost function for linear regression\n",
    "def compute_cost(X, y, theta):\n",
    "    \"\"\"\n",
    "    Compute the cost function for linear regression.\n",
    "    \"\"\"\n",
    "    # your code\n",
    "    cost = np.sum(np.square(np.dot(X, theta) - y)) / (2 * len(y))\n",
    "    \n",
    "    return cost\n",
    "\n",
    "\n",
    "# Define the gradient descent function\n",
    "def gradient_descent(X, y, alpha, iterations):\n",
    "    \"\"\"\n",
    "    Perform gradient descent to minimize the cost function.\n",
    "    \"\"\"\n",
    "    \n",
    "    theta = np.zeros(2)  # Initialize theta (matching number of features)\n",
    "    m = len(y)  # Number of training examples\n",
    "\n",
    "    # Iterate to update theta with iterations\n",
    "    # your code \n",
    "    for i in range(iterations):\n",
    "        \n",
    "        # Update theta[0] (intercept term) using the gradient of the cost function\n",
    "        t0 = theta[0] - (alpha / m) * np.sum(np.dot(X, theta) - y)\n",
    "        # Update theta[1] (slope term) using the gradient of the cost function\n",
    "        t1 = theta[0] - (alpha / m) * np.sum((np.dot(X, theta) - y) * X[:,1])\n",
    "\n",
    "        # Update the data as a new array with the computed values\n",
    "        theta = np.array([t0, t1])\n",
    "        \n",
    "    return theta\n",
    "\n",
    "theta = np.zeros(X.shape[1])\n",
    "\n",
    "# Number of iterations for gradient descent\n",
    "iterations = 5000\n",
    "\n",
    "# Learning rate for gradient descent\n",
    "alpha = 0.0001\n",
    "\n",
    "# Compute initial cost\n",
    "init_cost = compute_cost(X, y, theta)\n",
    "\n",
    "# Call the gradient descent function to compute optimized parameters\n",
    "theta = gradient_descent(X, y, alpha, iterations)\n",
    "\n",
    "# Compute the cost using the optimized parameters\n",
    "cost = compute_cost(X, y, theta)\n",
    "\n",
    "# Print the results\n",
    "print(\"Optimized theta (parameters):\", theta)  # Optimized values for theta (intercept and slope)\n",
    "print(\"Final cost:\", cost)  # Final cost value to evaluate the fit"
   ]
  },
  {
   "cell_type": "markdown",
   "id": "7e9c2e68-0803-43b1-ac8c-8ca765d61b85",
   "metadata": {},
   "source": [
    "### **Section 4: Visualizing the Linear Regression Line**\n",
    "\n",
    "*Objective:* Plot the regression line with the original data.\n",
    "\n",
    "Task: Plot the data points and the fitted regression line."
   ]
  },
  {
   "cell_type": "code",
   "execution_count": 53,
   "id": "c1af75b3-958b-471a-90b2-1a9c6d40841c",
   "metadata": {},
   "outputs": [
    {
     "data": {
      "image/png": "[encoded data removed]",
      "text/plain": [
       "<Figure size 640x480 with 1 Axes>"
      ]
     },
     "metadata": {},
     "output_type": "display_data"
    }
   ],
   "source": [
    "import matplotlib.pyplot as plt\n",
    "\n",
    "# Compare predictions with actual values\n",
    "y_pred = np.dot(X, theta)\n",
    "\n",
    "\n",
    "# Plot the data and regression line\n",
    "# You need to use scatter chart to Visualize the input dataset X & y\n",
    "# Your chart should plot the regression line using theta_optimal predictions \n",
    "# Your chart need to label the x-axis, y-axis and title\n",
    "# Your chart should use grid\n",
    "# Please add your name to the graph title\n",
    "\n",
    "# Your code\n",
    "plt.scatter(hours_df, part_df, marker='x', color='blue', label='Actual Data')\n",
    "plt.plot(hours_df, y_pred, color='red', linewidth=2, label='Regression Line')\n",
    "plt.title('Yarixa Perez + Linear Regresssion graph')\n",
    "plt.xlabel('X Axis')\n",
    "plt.ylabel('Y Axis')\n",
    "plt.show()"
   ]
  },
  {
   "cell_type": "markdown",
   "id": "d0db4e3a-42a2-4cdc-a4f0-d702babd213a",
   "metadata": {},
   "source": [
    "## **Logistic Regression Construction** "
   ]
  },
  {
   "cell_type": "markdown",
   "id": "52bc9e31-8eea-4939-9f9b-99238a5afbb2",
   "metadata": {},
   "source": [
    "#### **Section 1: Logistic Regression Data Preparation**\n",
    "\n",
    "*Objective:* Prepare data for logistic regression.\n",
    "\n",
    "Task: Write the code to:\n",
    "\n",
    "Create synthetic data for binary classification.\n",
    "Visualize the data."
   ]
  },
  {
   "cell_type": "markdown",
   "id": "5576a731-78cc-45a5-aaba-0a327a833314",
   "metadata": {},
   "source": [
    "#### Dataset Description\n",
    "\n",
    "Study_hour_Data.csv - The dataset simulates a scenario where students' chances of passing a course are influenced by their study habits and class participation. It contains 200 observations and the following three columns:\n",
    "\n",
    "\n",
    "**Hours of Study:**\n",
    "Integer values representing the number of hours a student spends studying in a week.\n",
    "Range: 0 to 9.\n",
    "\n",
    "**Class Participation:**\n",
    "Float values between 0 and 1, representing the level of engagement in class activities.\n",
    "Higher values indicate greater participation.\n",
    "\n",
    "**Passed:**\n",
    "Binary target variable indicating whether the student passed the course:\n",
    "1: Passed.\n",
    "0: Did not pass.\n",
    "Determined based on a weighted combination of Hours of Study and Class Participation (with added noise), with a threshold value of 5."
   ]
  },
  {
   "cell_type": "code",
   "execution_count": 59,
   "id": "ddb97210-5bc9-41b9-ae6c-52c1dd6d517c",
   "metadata": {},
   "outputs": [
    {
     "name": "stdout",
     "output_type": "stream",
     "text": [
      "<class 'pandas.core.frame.DataFrame'>\n",
      "RangeIndex: 200 entries, 0 to 199\n",
      "Data columns (total 3 columns):\n",
      " #   Column               Non-Null Count  Dtype  \n",
      "---  ------               --------------  -----  \n",
      " 0   Hours of Study       200 non-null    int64  \n",
      " 1   Class Participation  200 non-null    float64\n",
      " 2   Passed               200 non-null    int64  \n",
      "dtypes: float64(1), int64(2)\n",
      "memory usage: 4.8 KB\n",
      "None\n",
      "       Hours of Study  Class Participation      Passed\n",
      "count      200.000000           200.000000  200.000000\n",
      "mean         4.115000             0.505828    0.750000\n",
      "std          2.751295             0.289315    0.434099\n",
      "min          0.000000             0.009934    0.000000\n",
      "25%          2.000000             0.248919    0.750000\n",
      "50%          4.000000             0.492630    1.000000\n",
      "75%          6.000000             0.771555    1.000000\n",
      "max          9.000000             0.992191    1.000000\n"
     ]
    }
   ],
   "source": [
    "import pandas as pd\n",
    "#read data from Pandas\n",
    "\n",
    "# Load dataset\n",
    "# please use Study_hour_Data.csv as your target data\n",
    "data = pd.read_csv('Study_hour_data.csv')\n",
    "\n",
    "# Display basic information\n",
    "print(data.info())\n",
    "print(data.describe())\n",
    "\n",
    "# Generate your training data X & y\n",
    "X =  data[['Hours of Study']].values\n",
    "y =  data[['Passed']].values"
   ]
  },
  {
   "cell_type": "markdown",
   "id": "ee3884a0-0234-49c0-b9c2-039d80f3c444",
   "metadata": {},
   "source": [
    "#### **Section 2: Visualize the data**"
   ]
  },
  {
   "cell_type": "code",
   "execution_count": 63,
   "id": "7c8183a3-e11b-46c0-9ddf-bdee3cc0bce8",
   "metadata": {},
   "outputs": [
    {
     "data": {
      "image/png": "[encoded data removed]",
      "text/plain": [
       "<Figure size 640x480 with 1 Axes>"
      ]
     },
     "metadata": {},
     "output_type": "display_data"
    }
   ],
   "source": [
    "import matplotlib.pyplot as plt\n",
    "\n",
    "# Visualize the data\n",
    "\n",
    "# You need to use scatter chart to Visualize the input dataset X & y\n",
    "# Your chart need to label the x-axis, y-axis and title\n",
    "# Your chart should use grid\n",
    "# Please add your name to the graph title\n",
    "\n",
    "# Your code: \n",
    "plt.scatter(X, y, color='green', label='Actual Data')\n",
    "plt.xlabel(\"Hours of Study\")\n",
    "plt.ylabel(\"Passed (0=no, 1=yes)\")\n",
    "plt.title(\"Yarixa Perez + Study Hours vs Pass\")\n",
    "plt.grid()\n",
    "plt.show()"
   ]
  },
  {
   "cell_type": "markdown",
   "id": "5317d5a8-c76a-46a3-ab2a-a9ce54b1e51f",
   "metadata": {},
   "source": [
    "#### **Section 3: Implementing Logistic Regression**\n",
    "\n",
    "*Objective:* Implement logistic regression.\n",
    "\n",
    "For **Undergraduate students** (CS457): You can **choose** any of the following methods to implement it.\n",
    "1. You can use any scikit-learn library.\n",
    "2. Manually write cost function & gradient descent function to implement it. \n",
    "\n",
    "For **Graduate students** (CS557): You have to implement it by\n",
    "1. Manually write cost function & gradient descent function to implement it.\n",
    "\n",
    "\n",
    "Then, use the scipy.optimize library to fit the logistic regression model."
   ]
  },
  {
   "cell_type": "code",
   "execution_count": null,
   "id": "033c773f-d7e2-4a2a-90b2-4ccbb583df56",
   "metadata": {},
   "outputs": [],
   "source": [
    "# Your code for logistic regression model\n",
    "\n",
    "# Sklearn model\n",
    "import \n",
    "\n",
    "# Prepare data\n",
    "\n",
    "# Building the Model\n",
    "\n",
    "# Review Model parameter "
   ]
  },
  {
   "cell_type": "code",
   "execution_count": null,
   "id": "4623ce3e-1131-4f91-b9f5-33e6258b1bd9",
   "metadata": {},
   "outputs": [],
   "source": [
    "# Your logistic regression model\n",
    "\n",
    "# Define the sigmoid function\n",
    "def sigmoid(z):\n",
    "    # pass\n",
    "    return 1 / (1 + np.exp(-z))\n",
    "     \n",
    "\n",
    "# Define the cost function for logistic regression\n",
    "def cost_function(theta, X, y):\n",
    "        # pass\n",
    "    m = len(y)\n",
    "    h = sigmoid(np.dot(X, theta))\n",
    "    cost = (-1 / m) * np.sum(y * np.log(h) + (1 - y) * np.log(1 - h))\n",
    "    return cost\n",
    "   \n",
    "\n",
    "# Define the gradient function\n",
    "def gradient(theta, X, y):\n",
    "    m = len(y)\n",
    "    h = sigmoid(np.dot(X, theta))\n",
    "    grad = (1 / m) * np.dot(X.T, (h - y))\n",
    "    return grad"
   ]
  },
  {
   "cell_type": "code",
   "execution_count": 80,
   "id": "3e835e8c-8d87-4630-95ac-2fd002683d82",
   "metadata": {},
   "outputs": [
    {
     "ename": "ValueError",
     "evalue": "tnc: gradient must have shape (len(x0),)",
     "output_type": "error",
     "traceback": [
      "\u001b[1;31m---------------------------------------------------------------------------\u001b[0m",
      "\u001b[1;31mValueError\u001b[0m                                Traceback (most recent call last)",
      "Cell \u001b[1;32mIn[80], line 32\u001b[0m\n\u001b[0;32m     29\u001b[0m     \u001b[38;5;28;01mreturn\u001b[39;00m grad\u001b[38;5;241m.\u001b[39mravel()\n\u001b[0;32m     31\u001b[0m \u001b[38;5;66;03m# Minimize the cost function using scipy.optimize\u001b[39;00m\n\u001b[1;32m---> 32\u001b[0m result \u001b[38;5;241m=\u001b[39m minimize(fun\u001b[38;5;241m=\u001b[39mcost_function, x0\u001b[38;5;241m=\u001b[39mtheta_init, args\u001b[38;5;241m=\u001b[39m(X, y), method\u001b[38;5;241m=\u001b[39m\u001b[38;5;124m'\u001b[39m\u001b[38;5;124mTNC\u001b[39m\u001b[38;5;124m'\u001b[39m, jac\u001b[38;5;241m=\u001b[39mgradient)\n\u001b[0;32m     33\u001b[0m optimal_theta \u001b[38;5;241m=\u001b[39m result\u001b[38;5;241m.\u001b[39mx\n\u001b[0;32m     35\u001b[0m \u001b[38;5;66;03m# Print the optimized parameters (theta)\u001b[39;00m\n",
      "File \u001b[1;32m~\\anaconda3\\Lib\\site-packages\\scipy\\optimize\\_minimize.py:716\u001b[0m, in \u001b[0;36mminimize\u001b[1;34m(fun, x0, args, method, jac, hess, hessp, bounds, constraints, tol, callback, options)\u001b[0m\n\u001b[0;32m    713\u001b[0m     res \u001b[38;5;241m=\u001b[39m _minimize_lbfgsb(fun, x0, args, jac, bounds,\n\u001b[0;32m    714\u001b[0m                            callback\u001b[38;5;241m=\u001b[39mcallback, \u001b[38;5;241m*\u001b[39m\u001b[38;5;241m*\u001b[39moptions)\n\u001b[0;32m    715\u001b[0m \u001b[38;5;28;01melif\u001b[39;00m meth \u001b[38;5;241m==\u001b[39m \u001b[38;5;124m'\u001b[39m\u001b[38;5;124mtnc\u001b[39m\u001b[38;5;124m'\u001b[39m:\n\u001b[1;32m--> 716\u001b[0m     res \u001b[38;5;241m=\u001b[39m _minimize_tnc(fun, x0, args, jac, bounds, callback\u001b[38;5;241m=\u001b[39mcallback,\n\u001b[0;32m    717\u001b[0m                         \u001b[38;5;241m*\u001b[39m\u001b[38;5;241m*\u001b[39moptions)\n\u001b[0;32m    718\u001b[0m \u001b[38;5;28;01melif\u001b[39;00m meth \u001b[38;5;241m==\u001b[39m \u001b[38;5;124m'\u001b[39m\u001b[38;5;124mcobyla\u001b[39m\u001b[38;5;124m'\u001b[39m:\n\u001b[0;32m    719\u001b[0m     res \u001b[38;5;241m=\u001b[39m _minimize_cobyla(fun, x0, args, constraints, callback\u001b[38;5;241m=\u001b[39mcallback,\n\u001b[0;32m    720\u001b[0m                            bounds\u001b[38;5;241m=\u001b[39mbounds, \u001b[38;5;241m*\u001b[39m\u001b[38;5;241m*\u001b[39moptions)\n",
      "File \u001b[1;32m~\\anaconda3\\Lib\\site-packages\\scipy\\optimize\\_tnc.py:417\u001b[0m, in \u001b[0;36m_minimize_tnc\u001b[1;34m(fun, x0, args, jac, bounds, eps, scale, offset, mesg_num, maxCGit, eta, stepmx, accuracy, minfev, ftol, xtol, gtol, rescale, disp, callback, finite_diff_rel_step, maxfun, **unknown_options)\u001b[0m\n\u001b[0;32m    414\u001b[0m \u001b[38;5;28;01mif\u001b[39;00m maxfun \u001b[38;5;129;01mis\u001b[39;00m \u001b[38;5;28;01mNone\u001b[39;00m:\n\u001b[0;32m    415\u001b[0m     maxfun \u001b[38;5;241m=\u001b[39m \u001b[38;5;28mmax\u001b[39m(\u001b[38;5;241m100\u001b[39m, \u001b[38;5;241m10\u001b[39m\u001b[38;5;241m*\u001b[39m\u001b[38;5;28mlen\u001b[39m(x0))\n\u001b[1;32m--> 417\u001b[0m rc, nf, nit, x, funv, jacv \u001b[38;5;241m=\u001b[39m moduleTNC\u001b[38;5;241m.\u001b[39mtnc_minimize(\n\u001b[0;32m    418\u001b[0m     func_and_grad, x0, low, up, scale,\n\u001b[0;32m    419\u001b[0m     offset, messages, maxCGit, maxfun,\n\u001b[0;32m    420\u001b[0m     eta, stepmx, accuracy, fmin, ftol,\n\u001b[0;32m    421\u001b[0m     xtol, pgtol, rescale, callback\n\u001b[0;32m    422\u001b[0m )\n\u001b[0;32m    423\u001b[0m \u001b[38;5;66;03m# the TNC documentation states: \"On output, x, f and g may be very\u001b[39;00m\n\u001b[0;32m    424\u001b[0m \u001b[38;5;66;03m# slightly out of sync because of scaling\". Therefore re-evaluate\u001b[39;00m\n\u001b[0;32m    425\u001b[0m \u001b[38;5;66;03m# func_and_grad so they are synced.\u001b[39;00m\n\u001b[0;32m    426\u001b[0m funv, jacv \u001b[38;5;241m=\u001b[39m func_and_grad(x)\n",
      "File \u001b[1;32m_moduleTNC.pyx:200\u001b[0m, in \u001b[0;36m_moduleTNC.tnc_minimize\u001b[1;34m()\u001b[0m\n",
      "File \u001b[1;32m_moduleTNC.pyx:87\u001b[0m, in \u001b[0;36m_moduleTNC.function\u001b[1;34m()\u001b[0m\n",
      "\u001b[1;31mValueError\u001b[0m: tnc: gradient must have shape (len(x0),)"
     ]
    }
   ],
   "source": [
    "from scipy.optimize import minimize\n",
    "    \n",
    "# Add a bias term (intercept) to X\n",
    "X = np.column_stack((np.ones(len(X)), X))\n",
    "    \n",
    "# Initialize theta (parameters) to zeros\n",
    "theta_init = np.zeros(X.shape[1])\n",
    "\n",
    "# Define the sigmoid function\n",
    "def sigmoid(z):\n",
    "    # pass\n",
    "    return 1 / (1 + np.exp(-z))\n",
    "     \n",
    "\n",
    "# Define the cost function for logistic regression\n",
    "def cost_function(theta, X, y):\n",
    "    # pass\n",
    "    m = len(y)\n",
    "    s = sigmoid(np.dot(X, theta))\n",
    "    cost = (-1 / m) * np.sum(y * np.log(s) + (1 - y) * np.log(1 - s))\n",
    "    return cost\n",
    "   \n",
    "\n",
    "# Define the gradient function\n",
    "def gradient(theta, X, y):\n",
    "    m = len(y)\n",
    "    s = sigmoid(np.dot(X, theta))\n",
    "    grad = (1 / m) * np.dot(X.T, (s - y))\n",
    "    return grad.ravel()\n",
    "\n",
    "# Minimize the cost function using scipy.optimize\n",
    "result = minimize(fun=cost_function, x0=theta_init, args=(X, y), method='TNC', jac=gradient)\n",
    "optimal_theta = result.x\n",
    "\n",
    "# Print the optimized parameters (theta)\n",
    "print(\"Optimized theta (parameters):\", optimal_theta)"
   ]
  },
  {
   "cell_type": "markdown",
   "id": "3c5beb99-6509-4a52-9f6e-f83ff2773ce3",
   "metadata": {},
   "source": [
    "#### **Section 4: Evaluate the model**\n",
    "\n",
    "*Objective:* Evaluate the model with the fitted data.\n",
    "\n",
    "Task: build the Predict function, and Calculate accuracy."
   ]
  },
  {
   "cell_type": "code",
   "execution_count": null,
   "id": "a69d76b1-c489-475b-bedb-baa20ecad40c",
   "metadata": {},
   "outputs": [],
   "source": [
    "# Predict function\n",
    "def predict(X, theta):\n",
    "    # your code\n",
    "    p = sigmoid(np.dot(X, theta))\n",
    "    return (p >= 0.5).astype(int)\n",
    "    \n",
    "# Make predictions\n",
    "predictions = predict(X, optimal_theta)"
   ]
  },
  {
   "cell_type": "code",
   "execution_count": null,
   "id": "336aa148-2d43-47d3-83e7-e8bd260f0f76",
   "metadata": {},
   "outputs": [],
   "source": [
    "# Calculate accuracy\n",
    "accuracy = np.mean(predictions == y) * 100\n",
    "print(\"Accuracy:\", accuracy, \"%\")"
   ]
  },
  {
   "cell_type": "markdown",
   "id": "d45ba386-8248-41f5-9112-0ba46875eda5",
   "metadata": {},
   "source": [
    "### **Section 5: Visualizing Logistic Regression Fit**\n",
    "\n",
    "*Objective:* Plot the logistic regression fit with the original data.\n",
    "\n",
    "Task: Plot the sigmoid curve over the range of input features."
   ]
  },
  {
   "cell_type": "code",
   "execution_count": null,
   "id": "7f29587c-cd62-4ea6-9226-ea904016778b",
   "metadata": {},
   "outputs": [],
   "source": [
    "# Plot the data and regression line\n",
    "# You need to use scatter chart to Visualize the input dataset X & y\n",
    "# Your chart should plot the regression line using theta_optimal predictions \n",
    "# Your chart need to label the x-axis, y-axis and title\n",
    "# Your chart should use grid\n",
    "# Please add your name to the graph title\n",
    "\n",
    "plt.scatter(X, y, color='green', label='Actual Data')\n",
    "plt.xlabel(\"Hours of Study\")\n",
    "plt.ylabel(\"Passed (0=no, 1=yes)\")\n",
    "plt.title(\"Yarixa Perez + Study Hours vs Pass\")\n",
    "plt.grid()\n",
    "plt.show()"
   ]
  },
  {
   "cell_type": "code",
   "execution_count": null,
   "id": "27191b69-a42c-40df-ab8e-a3ed86abc7a5",
   "metadata": {},
   "outputs": [],
   "source": []
  }
 ],
 "metadata": {
  "kernelspec": {
   "display_name": "Python [conda env:base] *",
   "language": "python",
   "name": "conda-base-py"
  },
  "language_info": {
   "codemirror_mode": {
    "name": "ipython",
    "version": 3
   },
   "file_extension": ".py",
   "mimetype": "text/x-python",
   "name": "python",
   "nbconvert_exporter": "python",
   "pygments_lexer": "ipython3",
   "version": "3.12.7"
  }
 },
 "nbformat": 4,
 "nbformat_minor": 5
}
